{
 "cells": [
  {
   "cell_type": "code",
   "execution_count": null,
   "id": "4bb6cd8c-7e5d-4072-b76e-b639fa1530d2",
   "metadata": {},
   "outputs": [],
   "source": [
    "import ROOT # Loading ROOT"
   ]
  },
  {
   "cell_type": "code",
   "execution_count": null,
   "id": "049159c7-d0a6-4064-a401-4840ce9147df",
   "metadata": {
    "tags": []
   },
   "outputs": [],
   "source": [
    "file = ROOT.TFile(DMxsec_ee,\"READ\")\n",
    "fidXsec_500_ee = file.Get(\"graphFidXsec_0p5000\")\n",
    "fidXsec_500_ee.GetYaxis().SetTitle(\"#sigma_{Fid.}#times BR\")\n",
    "fidXsec_500_ee.GetXaxis().SetTitle(\"m_{Z'} - Dark Matter Mediator Mass\")\n",
    "fidXsec_500_ee.SetTitle(\"Fiducial Cross Section of Dark Matter Model\")\n",
    "cfidXsec = ROOT.TCanvas()\n",
    "cfidXsec.cd()\n",
    "fidXsec_500_ee.Draw()\n",
    "cfidXsec.Draw()"
   ]
  },
  {
   "cell_type": "code",
   "execution_count": null,
   "id": "2fdd5304-42f6-4ed1-9a7b-6b532b2ee956",
   "metadata": {},
   "outputs": [],
   "source": [
    "def SetArrays(finalState):\n",
    "\n",
    "    poleMass = []\n",
    "    Width    = []\n",
    "    neg95    = []\n",
    "    neg68    = []\n",
    "    central  = []\n",
    "    pos68    = []\n",
    "    pos95    = []\n",
    "\n",
    "    if finalState == \"ee\":\n",
    "        poleMass = [2.5,3.5,4.5,5.5,6.5,7.5,8.5,9.5,10.5,11.5]\n",
    "        Width    = [0.5,0.5,0.5,0.5,0.5,0.5,0.5,0.5,0.5,0.5]\n",
    "        neg95    = [1.04031e-05,2.83953e-06,1.40525e-06,1.22429e-06,1.93764e-06,6.58814e-06,2.77217e-05,4.30815e-05,4.53581e-05,4.7677e-05]\n",
    "        neg68    = [1.34446e-05,3.89499e-06,2.02331e-06,1.67029e-06,2.90514e-06,9.48196e-06,3.94315e-05,5.87383e-05,6.347e-05,6.46488e-05]\n",
    "        central  = [1.88798e-05,5.63752e-06,2.90367e-06,2.44504e-06,4.31562e-06,1.4725e-05,5.73635e-05,8.10394e-05,8.93357e-05,9.16786e-05]\n",
    "        pos68    = [2.65541e-05,8.37326e-06,4.2378e-06,3.75409e-06,6.38766e-06,2.37465e-05,8.61154e-05,0.000114161,0.000121193,0.000126887]\n",
    "        pos95    = [3.78479e-05,1.16504e-05,6.39832e-06,5.50215e-06,9.53352e-06,3.82278e-05,0.000128042,0.00016707,0.000186021,0.00018895]\n",
    "\n",
    "    elif finalState == 'mumu':\n",
    "        poleMass = [2.5,3.5,4.5,5.5,6.5,7.5,8.5,9.5,10.5,11.5]\n",
    "        Width    = [0.5,0.5,0.5,0.5,0.5,0.5,0.5,0.5,0.5,0.5]\n",
    "        neg95    = [1.61917e-05,6.51315e-06,3.81537e-06,3.01525e-06,5.392e-06,1.55101e-05,6.86931e-05,8.03059e-05,8.55459e-05,9.07205e-05]\n",
    "        neg68    = [2.20171e-05,9.28147e-06,5.31672e-06,4.2708e-06,8.81809e-06,2.51158e-05,9.15622e-05,0.000119728,0.000127277,0.000126067]\n",
    "        central  = [3.03798e-05,1.30241e-05,7.61418e-06,6.45049e-06,1.36629e-05,3.91601e-05,0.000127654,0.000170966,0.000177079,0.000185776]\n",
    "        pos68    = [4.4327e-05,1.85039e-05,1.14114e-05,9.73674e-06,2.20711e-05,6.09291e-05,0.000186503,0.000247614,0.000246595,0.000260345]\n",
    "        pos95    = [5.97339e-05,2.81679e-05,1.63669e-05,1.52416e-05,3.46819e-05,9.97071e-05,0.000287434,0.000348022,0.000335421,0.000347694]\n",
    "\n",
    "    else:\n",
    "        poleMass = [2.5,3.5,4.5,5.5,6.5,7.5,8.5,9.5,10.5,11.5]\n",
    "        Width    = [0.5,0.5,0.5,0.5,0.5,0.5,0.5,0.5,0.5,0.5]\n",
    "        neg95    = [7.85926e-06,2.57093e-06,1.23207e-06,1.1213e-06,1.61091e-06,5.19454e-06,2.33238e-05,3.65479e-05,3.85411e-05,4.27675e-05]\n",
    "        neg68    = [1.13433e-05,3.60592e-06,1.75137e-06,1.50583e-06,2.41052e-06,7.8052e-06,3.25632e-05,4.96584e-05,5.43096e-05,5.73977e-05]\n",
    "        central  = [1.60391e-05,5.07399e-06,2.544e-06,2.13902e-06,3.52157e-06,1.1884e-05,4.90778e-05,6.883e-05,7.69767e-05,8.00197e-05]\n",
    "        pos68    = [2.25132e-05,7.30838e-06,3.98052e-06,3.18756e-06,5.30126e-06,1.9621e-05,7.65786e-05,0.000105856,0.000113159,0.000114257]\n",
    "        pos95    = [3.24424e-05,1.02573e-05,5.67244e-06,4.61893e-06,8.75688e-06,3.1588e-05,0.000113206,0.000145293,0.000156925,0.000161499]\n",
    "\n",
    "    return poleMass,Width,neg95,neg68,central,pos68,pos95"
   ]
  },
  {
   "cell_type": "code",
   "execution_count": null,
   "id": "6c58c48d-27a4-4596-b525-3644f5168ee8",
   "metadata": {},
   "outputs": [],
   "source": [
    "Mass,Width,neg95,neg68,central,pos68,pos95 = SetArrays(\"ee\")\n",
    "expLimit_ee = ROOT.TGraph()\n",
    "expLimit_ee.SetName(\"ExpLimit_ee\")\n",
    "for N in range(len(Mass)):\n",
    "    expLimit_ee.SetPoint(N,Mass[N],1000*central[N])\n",
    "expLimit_ee.GetXaxis().SetTitle(\"Mass Z'\")\n",
    "expLimit_ee.GetYaxis().SetTitle(\"#sigma_{Fid.}#times BR\")\n",
    "expLimit_ee.SetTitle(\"Expected Limit from Dilepton Resonance Analysis\")\n",
    "\n",
    "cexpLimit_ee = ROOT.TCanvas()\n",
    "cexpLimit_ee.cd()\n",
    "expLimit_ee.Draw()\n",
    "cexpLimit_ee.Draw()"
   ]
  },
  {
   "cell_type": "code",
   "execution_count": null,
   "id": "7311c5ea-c20e-4df2-8398-e2a72c47275e",
   "metadata": {},
   "outputs": [],
   "source": [
    "cFindLimit = ROOT.TCanvas()\n",
    "cFindLimit.cd()\n",
    "cFindLimit.SetLogy()\n",
    "expLimit_ee.SetLineColor(2)\n",
    "\n",
    "leg = ROOT.TLegend(0.35, 0.72, 0.85, 0.92, \"\")\n",
    "leg.SetTextSize(0.04)\n",
    "leg.SetFillColor(0)\n",
    "leg.SetBorderSize(0)\n",
    "leg.AddEntry(expLimit_ee,\"#font[42]{Expected e^{+}e^{-} limit}\",\"l\")\n",
    "leg.AddEntry(fidXsec_500_ee,\"#font[42]{Vector Z'_{DM} (m_{#chi}=0.5 TeV)}\",\"l\")\n",
    "\n",
    "fidXsec_500_ee.Draw(\"AC\")\n",
    "expLimit_ee.Draw(\"C\")\n",
    "leg.Draw()\n",
    "ROOT.gPad.RedrawAxis()\n",
    "cFindLimit.Draw()"
   ]
  },
  {
   "cell_type": "code",
   "execution_count": null,
   "id": "4267de08-1115-4616-b235-f1c4cf1d1e1f",
   "metadata": {},
   "outputs": [],
   "source": []
  }
 ],
 "metadata": {
  "kernelspec": {
   "display_name": "Python 3",
   "language": "python",
   "name": "python3"
  },
  "language_info": {
   "codemirror_mode": {
    "name": "ipython",
    "version": 3
   },
   "file_extension": ".py",
   "mimetype": "text/x-python",
   "name": "python",
   "nbconvert_exporter": "python",
   "pygments_lexer": "ipython3",
   "version": "3.8.10"
  },
  "rucio_attachments": [
   {
    "did": "ATLAS_LAPP_SP:DMCrossSectionGraphs_axial_ee.root",
    "type": "file",
    "variableName": "DMxsec_ee"
   },
   {
    "did": "ATLAS_LAPP_SP:DMCrossSectionGraphs_axial_mumu.root",
    "type": "file",
    "variableName": "DMxsec_mumu"
   }
  ],
  "toc-autonumbering": false
 },
 "nbformat": 4,
 "nbformat_minor": 5
}
