{
 "cells": [
  {
   "cell_type": "code",
   "execution_count": null,
   "id": "2e341be7-30d0-44c5-aa62-03b600d598ed",
   "metadata": {},
   "outputs": [],
   "source": [
    "import ROOT # Loading ROOT\n",
    "from array import array\n",
    "import numpy as np"
   ]
  },
  {
   "cell_type": "code",
   "execution_count": null,
   "id": "e78b7ee3-adf9-4044-934d-44ffec4ac641",
   "metadata": {},
   "outputs": [],
   "source": [
    "file = ROOT.TFile(LimitInterpolator_CL95_14TeV,\"READ\")\n",
    "expLimit_mumu = file.Get(\"ExpLimit_mumu\")\n",
    "fidXsec_500_mumu = file.Get(\"graphFidXsec_0p50_mumu\")"
   ]
  },
  {
   "cell_type": "code",
   "execution_count": null,
   "id": "23b7bf1c-cbe5-4f07-af78-50cac981e54c",
   "metadata": {
    "tags": []
   },
   "outputs": [],
   "source": [
    "cfidXsec = ROOT.TCanvas()\n",
    "cfidXsec.cd()\n",
    "cfidXsec.SetLogy()\n",
    "\n",
    "leg = ROOT.TLegend(0.35, 0.72, 0.85, 0.92, \"\")\n",
    "leg.SetTextSize(0.04)\n",
    "leg.SetFillColor(0)\n",
    "leg.SetBorderSize(0)\n",
    "leg.AddEntry(expLimit_mumu,\"#font[42]{Expected #mu^{+}#mu^{-} limit}\",\"l\")\n",
    "leg.AddEntry(fidXsec_500_mumu,\"#font[42]{Vector Z'_{DM} (m_{#chi}=0.5 TeV)}\",\"l\")\n",
    "\n",
    "fidXsec_500_mumu = file.Get(\"graphFidXsec_0p50_mumu\")\n",
    "fidXsec_500_mumu.GetYaxis().SetTitle(\"#sigma_{Fid.}#times BR\")\n",
    "fidXsec_500_mumu.GetXaxis().SetTitle(\"m_{Z'} - Dark Matter Mediator Mass\")\n",
    "fidXsec_500_mumu.SetTitle(\"Fiducial Cross Section of Dark Matter Model\")\n",
    "\n",
    "fidXsec_500_mumu.Draw(\"AC\")\n",
    "expLimit_mumu.Draw(\"C\")\n",
    "leg.Draw()\n",
    "cfidXsec.Draw()"
   ]
  },
  {
   "cell_type": "code",
   "execution_count": null,
   "id": "c4ba351a-ccf3-49ca-8837-c927b2ce7e40",
   "metadata": {},
   "outputs": [],
   "source": [
    "cfidXsecAll = ROOT.TCanvas()\n",
    "cfidXsecAll.cd()\n",
    "cfidXsecAll.SetLogy()\n",
    "\n",
    "fidXsec_1000_mumu = file.Get(\"graphFidXsec_1p00_mumu\")\n",
    "fidXsec_1500_mumu = file.Get(\"graphFidXsec_1p50_mumu\")\n",
    "fidXsec_2000_mumu = file.Get(\"graphFidXsec_2p00_mumu\")\n",
    "\n",
    "fidXsec_500_mumu.Draw(\"AC\")\n",
    "fidXsec_1000_mumu.Draw(\"C\")\n",
    "fidXsec_1500_mumu.Draw(\"C\")\n",
    "fidXsec_2000_mumu.Draw(\"C\")\n",
    "expLimit_mumu.Draw(\"C\")\n",
    "cfidXsecAll.Draw()"
   ]
  },
  {
   "cell_type": "code",
   "execution_count": null,
   "id": "c935f6a6-6ada-4304-bcb6-1dc32e824598",
   "metadata": {},
   "outputs": [],
   "source": [
    "def GetCrossing(expLimit,fidXsec):\n",
    "\n",
    "    min = 0.0\n",
    "    max = 10.0\n",
    "    steps = 10000\n",
    "    epsilon = 1\n",
    "    mZp = 0.0\n",
    "\n",
    "    for i in np.linspace(min,max,steps):\n",
    "        if ROOT.TMath.Abs(expLimit.Eval(i)-fidXsec.Eval(i))<epsilon:\n",
    "            epsilon = ROOT.TMath.Abs(expLimit.Eval(i)-fidXsec.Eval(i))\n",
    "            mZp = i\n",
    "\n",
    "    return mZp"
   ]
  },
  {
   "cell_type": "code",
   "execution_count": null,
   "id": "8bac6450-080d-4046-bebf-ae6cbe2f754a",
   "metadata": {},
   "outputs": [],
   "source": [
    "massDM = ['0p50','1p00','1p50','2p00']\n",
    "mZp_lower,mZp_upper,mDM = array( 'd' ), array( 'd' ), array( 'd' )\n",
    "\n",
    "mDM.extend([0.50,1.00,1.50,2.00])\n",
    "mZp_lower.extend([0.15,0.15,0.15,0.15])\n",
    "mZp_upper.extend([GetCrossing(expLimit_mumu,fidXsec_500_mumu),GetCrossing(expLimit_mumu,fidXsec_1000_mumu),GetCrossing(expLimit_mumu,fidXsec_1500_mumu),GetCrossing(expLimit_mumu,fidXsec_2000_mumu)])\n",
    "\n",
    "exclusionGraph_lower = ROOT.TGraph(len(mDM),mZp_lower,mDM) # From Previous Results\n",
    "exclusionGraph_upper = ROOT.TGraph(len(mDM),mZp_upper,mDM)\n",
    "exclusionGraph_upper.SetTitle(\"Upper Limit\")\n",
    "exclusionGraph_upper.GetXaxis().SetTitle(\"m_{Z'}_{A} [TeV]\")\n",
    "exclusionGraph_upper.GetYaxis().SetTitle(\"m_{#chi} [TeV]\")\n",
    "\n",
    "c = ROOT.TCanvas(\"c\",\"c\",700,600)\n",
    "c.cd()\n",
    "exclusionGraph_upper.GetXaxis().SetLimits(0., 6.)\n",
    "exclusionGraph_upper.Draw(\"AC*\")\n",
    "exclusionGraph_lower.Draw(\"C*\")\n",
    "c.Update()\n",
    "ROOT.gPad.RedrawAxis()\n",
    "c.Draw()"
   ]
  },
  {
   "cell_type": "code",
   "execution_count": null,
   "id": "0ee8f014-42db-4d37-93fd-eb449f855609",
   "metadata": {},
   "outputs": [],
   "source": []
  }
 ],
 "metadata": {
  "kernelspec": {
   "display_name": "Python 3",
   "language": "python",
   "name": "python3"
  },
  "language_info": {
   "codemirror_mode": {
    "name": "ipython",
    "version": 3
   },
   "file_extension": ".py",
   "mimetype": "text/x-python",
   "name": "python",
   "nbconvert_exporter": "python",
   "pygments_lexer": "ipython3",
   "version": "3.8.10"
  },
  "rucio_attachments": [
   {
    "did": "ATLAS_LAPP_SP:LimitInterpolator_CL95_14TeV.root",
    "type": "file",
    "variableName": "LimitInterpolator_CL95_14TeV"
   }
  ]
 },
 "nbformat": 4,
 "nbformat_minor": 5
}
